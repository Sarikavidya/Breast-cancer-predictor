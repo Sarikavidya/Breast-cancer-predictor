{
 "cells": [
  {
   "cell_type": "markdown",
   "metadata": {},
   "source": [
    "# BREAST CANCER PREDICTOR USING GUI"
   ]
  },
  {
   "cell_type": "code",
   "execution_count": 4,
   "metadata": {},
   "outputs": [],
   "source": [
    "import pandas as pd\n",
    "import numpy as np\n",
    "from sklearn.model_selection import train_test_split\n",
    "from sklearn.ensemble import RandomForestClassifier\n",
    "import tkinter as tk"
   ]
  },
  {
   "cell_type": "code",
   "execution_count": 5,
   "metadata": {},
   "outputs": [],
   "source": [
    "class Predictor:\n",
    "\n",
    "    def has_disease(self, row):\n",
    "        self.train(self)\n",
    "        #Class:   (2 for benign, 4 for malignant)\n",
    "        return True if self.predict(self, row) == 4 else False\n",
    "\n",
    "    @staticmethod\n",
    "    def train(self):\n",
    "        dataset = pd.read_csv('Downloads/breast-cancer.csv')\n",
    "        dataset = dataset[dataset.Bare_Nuclei != '?']\n",
    "        dataset = dataset.drop(['Sample code number'], axis=1)\n",
    "        y = dataset['Class']\n",
    "        X = dataset.drop(['Class'], axis=1)\n",
    "        X_train, X_test, y_train, y_test = train_test_split(X, y, test_size=0.33, random_state=0)\n",
    "        self.classifier = RandomForestClassifier(n_estimators=10, criterion='entropy', random_state=0)\n",
    "        self.classifier.fit(X_train, y_train)\n",
    "        score = self.classifier.score(X_test, y_test)\n",
    "        print('--Training Complete--')\n",
    "        print('Score: ' + str(score))\n",
    "\n",
    "    @staticmethod\n",
    "    def predict(self, row):\n",
    "        user_df = np.array(row).reshape(1, 9)\n",
    "        # user_df = self.standardScaler.transform(user_df)\n",
    "        predicted = self.classifier.predict(user_df)\n",
    "        print(\"Predicted: \" + str(predicted[0]))\n",
    "        return predicted[0]\n",
    "\n"
   ]
  },
  {
   "cell_type": "code",
   "execution_count": 6,
   "metadata": {},
   "outputs": [
    {
     "name": "stdout",
     "output_type": "stream",
     "text": [
      "[[5, 1, 1, 1, 2, 1, 3, 1, 1]]\n",
      "--Training Complete--\n",
      "Score: 0.9380530973451328\n",
      "Predicted: 2\n",
      "Person Is Healthy\n"
     ]
    }
   ],
   "source": [
    "la=str()\n",
    "def onClick():\n",
    "    row=[[cthick.get(),ucsize.get(),ucshape.get(),ma.get(),cecsize.get(),bn.get(),bc.get(),nn.get(),mito.get()]]\n",
    "    print(row)\n",
    "    predictor = Predictor()\n",
    "    o = predictor.has_disease(row)\n",
    "    root2 = tk.Tk()\n",
    "    root2.title(\"Prediction Window\")\n",
    "    if (o == True):\n",
    "        print(\"Person Have Breast Cancer\")\n",
    "        la=\"Person Have Breast Cancer\"\n",
    "        tk.Label(root2, text=la, font=(\"times new roman\", 20), fg=\"white\", bg=\"maroon\", height=2).grid(row=0, column=1)\n",
    "    else:\n",
    "        print(\"Person Is Healthy\")\n",
    "        la=\"Person Is Healthy\"\n",
    "        tk.Label(root2, text=la, font=(\"times new roman\", 20), fg=\"white\", bg=\"green\", height=2).grid(row=0, column=1)\n",
    "\n",
    "    return True\n",
    "root = tk.Tk()\n",
    "root.title(\"Breast Cancer Predictor\")\n",
    "tk.Label(root,text=\"\"\"Fill Values between 1 - 10\"\"\",font=(\"times new roman\", 12)).grid(row=0)\n",
    "tk.Label(root,text='Clump Thickness ',padx=20, font=(\"times new roman\", 12)).grid(row=1,column=0)\n",
    "cthick = tk.IntVar()\n",
    "tk.Entry(root,textvariable=cthick).grid(row=1,column=1)\n",
    "\n",
    "tk.Label(root,text=\"\"\"Uniformity of Cell Size\"\"\",padx=20, font=(\"times new roman\", 12)).grid(row=2,column=0)\n",
    "ucsize = tk.IntVar()\n",
    "tk.Entry(root,textvariable=ucsize).grid(row=2,column=1)\n",
    "\n",
    "tk.Label(root,text='Uniformity of Cell Shape', font=(\"times new roman\", 12)).grid(row=3,column=0)\n",
    "ucshape = tk.IntVar()\n",
    "tk.Entry(root,textvariable=ucshape).grid(row=3,column=1)\n",
    "\n",
    "tk.Label(root,text='Marginal Adhesion', font=(\"times new roman\", 12)).grid(row=4,column=0)\n",
    "ma = tk.IntVar()\n",
    "tk.Entry(root,textvariable=ma).grid(row=4,column=1)\n",
    "\n",
    "tk.Label(root,text='Single Epithelial Cell Size', font=(\"times new roman\", 12)).grid(row=5,column=0)\n",
    "cecsize = tk.IntVar()\n",
    "tk.Entry(root,textvariable=cecsize).grid(row=5,column=1)\n",
    "\n",
    "tk.Label(root,text=\"\"\"Bare Nuclei\"\"\",padx=20, font=(\"times new roman\", 12)).grid(row=6,column=0)\n",
    "bn=tk.IntVar()\n",
    "tk.Entry(root,textvariable=bn).grid(row=6,column=1)\n",
    "\n",
    "tk.Label(root,text=\"\"\"Bland Chromatin\"\"\",padx=20, font=(\"times new roman\", 12)).grid(row=7,column=0)\n",
    "bc=tk.IntVar()\n",
    "tk.Entry(root,textvariable=bc).grid(row=7,column=1)\n",
    "\n",
    "tk.Label(root,text='Normal Nucleoli', font=(\"times new roman\", 12)).grid(row=8,column=0)\n",
    "nn = tk.IntVar()\n",
    "tk.Entry(root,textvariable=nn).grid(row=8,column=1)\n",
    "\n",
    "tk.Label(root,text=\"\"\"Mitoses\"\"\",padx=20, font=(\"times new roman\", 12)).grid(row=9,column=0)\n",
    "mito=tk.IntVar()\n",
    "tk.Entry(root,textvariable=mito).grid(row=9,column=1)\n",
    "\n",
    "tk.Button(root, text='Predict', command=onClick).grid(row=11, column=1)\n",
    "\n",
    "root.mainloop()"
   ]
  },
  {
   "cell_type": "code",
   "execution_count": null,
   "metadata": {},
   "outputs": [],
   "source": []
  }
 ],
 "metadata": {
  "kernelspec": {
   "display_name": "Python 3",
   "language": "python",
   "name": "python3"
  },
  "language_info": {
   "codemirror_mode": {
    "name": "ipython",
    "version": 3
   },
   "file_extension": ".py",
   "mimetype": "text/x-python",
   "name": "python",
   "nbconvert_exporter": "python",
   "pygments_lexer": "ipython3",
   "version": "3.8.5"
  }
 },
 "nbformat": 4,
 "nbformat_minor": 4
}
